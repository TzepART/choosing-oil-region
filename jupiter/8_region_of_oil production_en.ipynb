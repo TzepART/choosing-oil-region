{
 "cells": [
  {
   "cell_type": "markdown",
   "source": [
    "# Project \"Determination of the region of oil production\""
   ],
   "metadata": {
    "collapsed": false
   }
  },
  {
   "cell_type": "markdown",
   "metadata": {},
   "source": [
    "<a id='description_project'></a>\n",
    "## Brief description of the project"
   ]
  },
  {
   "cell_type": "markdown",
   "metadata": {},
   "source": [
    "GlavRosGosNeft needs to decide where to drill a new well. \n",
    "\n",
    "We were provided with oil samples in three regions: in each of 10,000 fields, where the quality of oil and the volume of its reserves were measured. \n",
    "\n",
    "As part of the project, we need to build a machine learning model that will help determine the region where mining will bring the greatest profit. Для этой модели необходимо проанализировать возможную прибыль и риски техникой *Bootstrap.*\n",
    "\n",
    "Steps for choosing a location: \n",
    "\n",
    "- They are looking for deposits in the selected region, for each determine the values ​​of the attributes; \n",
    "- Build a model and estimate the volume of reserves; \n",
    "- The deposits with the highest value estimates are selected. The number of fields depends on the company's budget and the cost of developing one well; \n",
    "- The profit is equal to the total profit of the selected fields."
   ]
  },
  {
   "cell_type": "markdown",
   "metadata": {},
   "source": [
    "## Table of Contents \n",
    "\n",
    "- [Brief description of the project](#description_project)\n",
    "- [Conditions of the problem](#task_conditions)\n",
    "- [Description of data](#description_data)\n",
    "- [Step 1. Import all required libraries and add required functions](#step_1)\n",
    "- [Step 2. Prepare the data](#step_2)\n",
    "- [Step 3. Train and validate the model](#step_3)\n",
    "- [Step 4. Preparation for calculating profit](#step_4)\n",
    "- [Step 5. Calculation of profit and risk](#step_5)\n",
    "- [Step 6. Conclusions on the research results](#step_6)"
   ]
  },
  {
   "cell_type": "markdown",
   "metadata": {},
   "source": [
    "<a id='task_conditions'></a>\n",
    "## Conditions of the problem"
   ]
  },
  {
   "cell_type": "markdown",
   "metadata": {},
   "source": [
    "- Only linear regression is suitable for training the model (the rest are not predictable enough). \n",
    "- When exploring a region, 500 points are examined, from which 200 best ones are selected for development using machine learning. \n",
    "- The budget for the development of wells in the region is 10 billion rubles. \n",
    "- At current prices, one barrel of raw materials brings in 450 rubles of income. Income from each unit of the product is 450 thousand. rubles, since the volume is indicated in thousands of barrels. \n",
    "- After assessing the risks, it is necessary to leave only those regions in which the probability of losses is less than 2.5%. Among them, the region with the highest average profit is chosen."
   ]
  },
  {
   "cell_type": "markdown",
   "metadata": {},
   "source": [
    "<a id='description_data'></a>\n",
    "## Description of data"
   ]
  },
  {
   "cell_type": "markdown",
   "metadata": {},
   "source": [
    "- `id` — a unique identifier for the well;\n",
    "- `f0`, `f1`, `f2` — three signs of points (it doesn't matter what they mean, but the signs themselves are significant);\n",
    "- `product` — the volume of reserves in the well (thousand barrels)."
   ]
  },
  {
   "cell_type": "markdown",
   "metadata": {},
   "source": [
    "<a id='step_1'></a>\n",
    "## Step 1. Importing all the required libraries and adding the required functions "
   ]
  },
  {
   "cell_type": "markdown",
   "metadata": {},
   "source": [
    "We import all the libraries necessary in the project:"
   ]
  },
  {
   "cell_type": "code",
   "execution_count": 1,
   "metadata": {},
   "outputs": [],
   "source": [
    "import pandas as pd\n",
    "import numpy as np\n",
    "from pandas import DataFrame, Series\n",
    "from dataclasses import dataclass\n",
    "from sklearn.model_selection import train_test_split\n",
    "from sklearn.preprocessing import StandardScaler\n",
    "from sklearn import preprocessing\n",
    "from sklearn.linear_model import LinearRegression\n",
    "from sklearn.metrics import mean_squared_error"
   ]
  },
  {
   "cell_type": "markdown",
   "metadata": {},
   "source": [
    "**Data structure for storing training and validation samples with the target feature and other features**"
   ]
  },
  {
   "cell_type": "code",
   "execution_count": 2,
   "metadata": {},
   "outputs": [],
   "source": [
    "@dataclass\n",
    "class TrainAndValidData:\n",
    "    features_train: pd.DataFrame\n",
    "    features_valid: pd.DataFrame\n",
    "    target_train: pd.Series\n",
    "    target_valid: pd.Series"
   ]
  },
  {
   "cell_type": "markdown",
   "metadata": {},
   "source": [
    "**Function for dividing data into training and validation sets with a target feature and other features**"
   ]
  },
  {
   "cell_type": "code",
   "execution_count": 3,
   "metadata": {},
   "outputs": [],
   "source": [
    "def separate_on_train_and_valid_data(\n",
    "        separating_data: pd.DataFrame,\n",
    "        target_field: str,\n",
    "        valid_size_value=0.25\n",
    ") -> TrainAndValidData:\n",
    "    data_train, data_valid = train_test_split(separating_data, test_size=valid_size_value, random_state=12345)\n",
    "\n",
    "    features_train = data_train.drop([target_field], axis=1).reset_index(drop=True)\n",
    "    features_valid = data_valid.drop([target_field], axis=1).reset_index(drop=True)\n",
    "\n",
    "    target_train = data_train[target_field].reset_index(drop=True)\n",
    "    target_valid = data_valid[target_field].reset_index(drop=True)\n",
    "\n",
    "    return TrainAndValidData(features_train, features_valid, target_train, target_valid)"
   ]
  },
  {
   "cell_type": "markdown",
   "metadata": {},
   "source": [
    "**A function to initialize the Linear Regression model.**\n",
    "\n",
    "The functions are passed as parameters `target_train` and` features_train` - a Series object with a target trait and a DataFrame with other traits.\n",
    "In addition, the value of the `count_jobs` parameter is passed."
   ]
  },
  {
   "cell_type": "code",
   "execution_count": 4,
   "metadata": {},
   "outputs": [],
   "source": [
    "def build_linear_regression_model(features_train, target_train, count_jobs=1) -> LinearRegression:\n",
    "    linear_regression_model = LinearRegression(n_jobs=count_jobs)\n",
    "    linear_regression_model.fit(features_train, target_train)\n",
    "\n",
    "    return linear_regression_model"
   ]
  },
  {
   "cell_type": "markdown",
   "metadata": {},
   "source": [
    "**A function that calculates and returns revenue.**\n",
    "She gets to enter: \n",
    "- `target` — real values of the target characteristic\n",
    "- `predictions` — model predicted values\n",
    "- `count` - slice size with maximum values\n",
    "- `additional_multiplier` - an additional multiplier resulting from the amount (in our case, it will be the income of a unit of goods)\n",
    "\n",
    "The function will have to select the wells with the largest quantity of product and, based on the answers, calculate the possible revenues."
   ]
  },
  {
   "cell_type": "code",
   "execution_count": 5,
   "metadata": {},
   "outputs": [],
   "source": [
    "def revenue(target, predictions, count, additional_multiplier=1):\n",
    "    predict_sorted = predictions.sort_values(ascending=False)\n",
    "    selected = target[predict_sorted.index][:count]\n",
    "\n",
    "    return additional_multiplier * selected.sum()"
   ]
  },
  {
   "cell_type": "markdown",
   "metadata": {},
   "source": [
    "**A function to find the n-th% -quantile of the proceeds by the Bootstrap procedure with 1000 repetitions.**\n",
    "\n",
    "It returns the values of the lower (`lower_quantile`) and upper (` upper_quantile`) quantiles (the variables `lower` and` upper`), as well as the average revenue (the variable `mean`).\n",
    "\n",
    "The value of the variable `lower` means that with the probability` (100 - lower_quantile)% `the revenue can be at least` lower` rub.\n",
    "\n",
    "Likewise for the variable `upper`."
   ]
  },
  {
   "cell_type": "code",
   "execution_count": 6,
   "metadata": {},
   "outputs": [],
   "source": [
    "def get_mean_and_quantile_by_bootstrap(\n",
    "        target: Series, predictions: Series,\n",
    "        lower_quantile: float,\n",
    "        upper_quantile: float,\n",
    "        count_samples=200,\n",
    "        additional_multiplier=1\n",
    "):\n",
    "    state = np.random.RandomState(12345)\n",
    "    values = []\n",
    "    for i in range(1000):\n",
    "        target_subsample = target.sample(n=500, replace=True, random_state=state)\n",
    "        predict_subsample = predictions[target_subsample.index]\n",
    "        values.append(revenue(target_subsample, predict_subsample, count_samples, additional_multiplier))\n",
    "\n",
    "    values = pd.Series(values)\n",
    "    lower = values.quantile(lower_quantile)\n",
    "    upper = values.quantile(upper_quantile)\n",
    "    mean = values.mean()\n",
    "\n",
    "    return lower, upper, mean, values"
   ]
  },
  {
   "cell_type": "markdown",
   "metadata": {},
   "source": [
    "**A small function for calculating the profitability of wells, based on a slice of model predictions**"
   ]
  },
  {
   "cell_type": "code",
   "execution_count": 7,
   "metadata": {},
   "outputs": [],
   "source": [
    "def profit_of_wells_by_predictions(predictions: Series, product_profit, break_even_product_quantity):\n",
    "    return (predictions.sum() - len(predictions) * break_even_product_quantity) * product_profit"
   ]
  },
  {
   "cell_type": "markdown",
   "metadata": {},
   "source": [
    "**The function selects random 500 points from the dataset, on the basis of which, using the transmitted model, calculates predictions by key attribute**"
   ]
  },
  {
   "cell_type": "code",
   "execution_count": 8,
   "metadata": {},
   "outputs": [],
   "source": [
    "def get_predictions_500(data: DataFrame, model) -> Series:\n",
    "    data_500 = data.sample(500, replace=True, random_state=12345).reset_index(drop=True)\n",
    "    features_train_500 = data_500.drop(['product'], axis=1).reset_index(drop=True)\n",
    "    predictions = model.predict(features_train_500)\n",
    "\n",
    "    return pd.Series(predictions)"
   ]
  },
  {
   "cell_type": "markdown",
   "metadata": {},
   "source": [
    "**A small function for converting the values of rubles into a more readable form -> mln.rub.**"
   ]
  },
  {
   "cell_type": "code",
   "execution_count": 9,
   "metadata": {},
   "outputs": [],
   "source": [
    "def transform_to_million_rub(value: float) -> str:\n",
    "    return '{: .3f} million rub.'.format(value / 10 ** 6)\n"
   ]
  },
  {
   "cell_type": "markdown",
   "metadata": {},
   "source": [
    "<a id='step_2'></a>\n",
    "## Step 2. Data preparation "
   ]
  },
  {
   "cell_type": "markdown",
   "metadata": {},
   "source": [
    "Let's load the data and visually check it."
   ]
  },
  {
   "cell_type": "code",
   "execution_count": 10,
   "metadata": {},
   "outputs": [],
   "source": [
    "data_0 = pd.read_csv('/datasets/geo_data_0.csv')\n",
    "data_1 = pd.read_csv('/datasets/geo_data_1.csv')\n",
    "data_2 = pd.read_csv('/datasets/geo_data_2.csv')"
   ]
  },
  {
   "cell_type": "code",
   "execution_count": 11,
   "metadata": {},
   "outputs": [
    {
     "data": {
      "text/html": [
       "<div>\n",
       "<style scoped>\n",
       "    .dataframe tbody tr th:only-of-type {\n",
       "        vertical-align: middle;\n",
       "    }\n",
       "\n",
       "    .dataframe tbody tr th {\n",
       "        vertical-align: top;\n",
       "    }\n",
       "\n",
       "    .dataframe thead th {\n",
       "        text-align: right;\n",
       "    }\n",
       "</style>\n",
       "<table border=\"1\" class=\"dataframe\">\n",
       "  <thead>\n",
       "    <tr style=\"text-align: right;\">\n",
       "      <th></th>\n",
       "      <th>id</th>\n",
       "      <th>f0</th>\n",
       "      <th>f1</th>\n",
       "      <th>f2</th>\n",
       "      <th>product</th>\n",
       "    </tr>\n",
       "  </thead>\n",
       "  <tbody>\n",
       "    <tr>\n",
       "      <td>0</td>\n",
       "      <td>txEyH</td>\n",
       "      <td>0.705745</td>\n",
       "      <td>-0.497823</td>\n",
       "      <td>1.221170</td>\n",
       "      <td>105.280062</td>\n",
       "    </tr>\n",
       "    <tr>\n",
       "      <td>1</td>\n",
       "      <td>2acmU</td>\n",
       "      <td>1.334711</td>\n",
       "      <td>-0.340164</td>\n",
       "      <td>4.365080</td>\n",
       "      <td>73.037750</td>\n",
       "    </tr>\n",
       "    <tr>\n",
       "      <td>2</td>\n",
       "      <td>409Wp</td>\n",
       "      <td>1.022732</td>\n",
       "      <td>0.151990</td>\n",
       "      <td>1.419926</td>\n",
       "      <td>85.265647</td>\n",
       "    </tr>\n",
       "    <tr>\n",
       "      <td>3</td>\n",
       "      <td>iJLyR</td>\n",
       "      <td>-0.032172</td>\n",
       "      <td>0.139033</td>\n",
       "      <td>2.978566</td>\n",
       "      <td>168.620776</td>\n",
       "    </tr>\n",
       "    <tr>\n",
       "      <td>4</td>\n",
       "      <td>Xdl7t</td>\n",
       "      <td>1.988431</td>\n",
       "      <td>0.155413</td>\n",
       "      <td>4.751769</td>\n",
       "      <td>154.036647</td>\n",
       "    </tr>\n",
       "    <tr>\n",
       "      <td>5</td>\n",
       "      <td>wX4Hy</td>\n",
       "      <td>0.969570</td>\n",
       "      <td>0.489775</td>\n",
       "      <td>-0.735383</td>\n",
       "      <td>64.741541</td>\n",
       "    </tr>\n",
       "    <tr>\n",
       "      <td>6</td>\n",
       "      <td>tL6pL</td>\n",
       "      <td>0.645075</td>\n",
       "      <td>0.530656</td>\n",
       "      <td>1.780266</td>\n",
       "      <td>49.055285</td>\n",
       "    </tr>\n",
       "    <tr>\n",
       "      <td>7</td>\n",
       "      <td>BYPU6</td>\n",
       "      <td>-0.400648</td>\n",
       "      <td>0.808337</td>\n",
       "      <td>-5.624670</td>\n",
       "      <td>72.943292</td>\n",
       "    </tr>\n",
       "    <tr>\n",
       "      <td>8</td>\n",
       "      <td>j9Oui</td>\n",
       "      <td>0.643105</td>\n",
       "      <td>-0.551583</td>\n",
       "      <td>2.372141</td>\n",
       "      <td>113.356160</td>\n",
       "    </tr>\n",
       "    <tr>\n",
       "      <td>9</td>\n",
       "      <td>OLuZU</td>\n",
       "      <td>2.173381</td>\n",
       "      <td>0.563698</td>\n",
       "      <td>9.441852</td>\n",
       "      <td>127.910945</td>\n",
       "    </tr>\n",
       "  </tbody>\n",
       "</table>\n",
       "</div>"
      ],
      "text/plain": [
       "      id        f0        f1        f2     product\n",
       "0  txEyH  0.705745 -0.497823  1.221170  105.280062\n",
       "1  2acmU  1.334711 -0.340164  4.365080   73.037750\n",
       "2  409Wp  1.022732  0.151990  1.419926   85.265647\n",
       "3  iJLyR -0.032172  0.139033  2.978566  168.620776\n",
       "4  Xdl7t  1.988431  0.155413  4.751769  154.036647\n",
       "5  wX4Hy  0.969570  0.489775 -0.735383   64.741541\n",
       "6  tL6pL  0.645075  0.530656  1.780266   49.055285\n",
       "7  BYPU6 -0.400648  0.808337 -5.624670   72.943292\n",
       "8  j9Oui  0.643105 -0.551583  2.372141  113.356160\n",
       "9  OLuZU  2.173381  0.563698  9.441852  127.910945"
      ]
     },
     "metadata": {},
     "output_type": "display_data"
    },
    {
     "name": "stdout",
     "output_type": "stream",
     "text": [
      "<class 'pandas.core.frame.DataFrame'>\n",
      "RangeIndex: 100000 entries, 0 to 99999\n",
      "Data columns (total 5 columns):\n",
      "id         100000 non-null object\n",
      "f0         100000 non-null float64\n",
      "f1         100000 non-null float64\n",
      "f2         100000 non-null float64\n",
      "product    100000 non-null float64\n",
      "dtypes: float64(4), object(1)\n",
      "memory usage: 3.8+ MB\n"
     ]
    }
   ],
   "source": [
    "display(data_0.head(10))\n",
    "data_0.info()"
   ]
  },
  {
   "cell_type": "code",
   "execution_count": 12,
   "metadata": {},
   "outputs": [
    {
     "data": {
      "text/html": [
       "<div>\n",
       "<style scoped>\n",
       "    .dataframe tbody tr th:only-of-type {\n",
       "        vertical-align: middle;\n",
       "    }\n",
       "\n",
       "    .dataframe tbody tr th {\n",
       "        vertical-align: top;\n",
       "    }\n",
       "\n",
       "    .dataframe thead th {\n",
       "        text-align: right;\n",
       "    }\n",
       "</style>\n",
       "<table border=\"1\" class=\"dataframe\">\n",
       "  <thead>\n",
       "    <tr style=\"text-align: right;\">\n",
       "      <th></th>\n",
       "      <th>id</th>\n",
       "      <th>f0</th>\n",
       "      <th>f1</th>\n",
       "      <th>f2</th>\n",
       "      <th>product</th>\n",
       "    </tr>\n",
       "  </thead>\n",
       "  <tbody>\n",
       "    <tr>\n",
       "      <td>0</td>\n",
       "      <td>kBEdx</td>\n",
       "      <td>-15.001348</td>\n",
       "      <td>-8.276000</td>\n",
       "      <td>-0.005876</td>\n",
       "      <td>3.179103</td>\n",
       "    </tr>\n",
       "    <tr>\n",
       "      <td>1</td>\n",
       "      <td>62mP7</td>\n",
       "      <td>14.272088</td>\n",
       "      <td>-3.475083</td>\n",
       "      <td>0.999183</td>\n",
       "      <td>26.953261</td>\n",
       "    </tr>\n",
       "    <tr>\n",
       "      <td>2</td>\n",
       "      <td>vyE1P</td>\n",
       "      <td>6.263187</td>\n",
       "      <td>-5.948386</td>\n",
       "      <td>5.001160</td>\n",
       "      <td>134.766305</td>\n",
       "    </tr>\n",
       "    <tr>\n",
       "      <td>3</td>\n",
       "      <td>KcrkZ</td>\n",
       "      <td>-13.081196</td>\n",
       "      <td>-11.506057</td>\n",
       "      <td>4.999415</td>\n",
       "      <td>137.945408</td>\n",
       "    </tr>\n",
       "    <tr>\n",
       "      <td>4</td>\n",
       "      <td>AHL4O</td>\n",
       "      <td>12.702195</td>\n",
       "      <td>-8.147433</td>\n",
       "      <td>5.004363</td>\n",
       "      <td>134.766305</td>\n",
       "    </tr>\n",
       "    <tr>\n",
       "      <td>5</td>\n",
       "      <td>HHckp</td>\n",
       "      <td>-3.327590</td>\n",
       "      <td>-2.205276</td>\n",
       "      <td>3.003647</td>\n",
       "      <td>84.038886</td>\n",
       "    </tr>\n",
       "    <tr>\n",
       "      <td>6</td>\n",
       "      <td>h5Ujo</td>\n",
       "      <td>-11.142655</td>\n",
       "      <td>-10.133399</td>\n",
       "      <td>4.002382</td>\n",
       "      <td>110.992147</td>\n",
       "    </tr>\n",
       "    <tr>\n",
       "      <td>7</td>\n",
       "      <td>muH9x</td>\n",
       "      <td>4.234715</td>\n",
       "      <td>-0.001354</td>\n",
       "      <td>2.004588</td>\n",
       "      <td>53.906522</td>\n",
       "    </tr>\n",
       "    <tr>\n",
       "      <td>8</td>\n",
       "      <td>YiRkx</td>\n",
       "      <td>13.355129</td>\n",
       "      <td>-0.332068</td>\n",
       "      <td>4.998647</td>\n",
       "      <td>134.766305</td>\n",
       "    </tr>\n",
       "    <tr>\n",
       "      <td>9</td>\n",
       "      <td>jG6Gi</td>\n",
       "      <td>1.069227</td>\n",
       "      <td>-11.025667</td>\n",
       "      <td>4.997844</td>\n",
       "      <td>137.945408</td>\n",
       "    </tr>\n",
       "  </tbody>\n",
       "</table>\n",
       "</div>"
      ],
      "text/plain": [
       "      id         f0         f1        f2     product\n",
       "0  kBEdx -15.001348  -8.276000 -0.005876    3.179103\n",
       "1  62mP7  14.272088  -3.475083  0.999183   26.953261\n",
       "2  vyE1P   6.263187  -5.948386  5.001160  134.766305\n",
       "3  KcrkZ -13.081196 -11.506057  4.999415  137.945408\n",
       "4  AHL4O  12.702195  -8.147433  5.004363  134.766305\n",
       "5  HHckp  -3.327590  -2.205276  3.003647   84.038886\n",
       "6  h5Ujo -11.142655 -10.133399  4.002382  110.992147\n",
       "7  muH9x   4.234715  -0.001354  2.004588   53.906522\n",
       "8  YiRkx  13.355129  -0.332068  4.998647  134.766305\n",
       "9  jG6Gi   1.069227 -11.025667  4.997844  137.945408"
      ]
     },
     "metadata": {},
     "output_type": "display_data"
    },
    {
     "name": "stdout",
     "output_type": "stream",
     "text": [
      "<class 'pandas.core.frame.DataFrame'>\n",
      "RangeIndex: 100000 entries, 0 to 99999\n",
      "Data columns (total 5 columns):\n",
      "id         100000 non-null object\n",
      "f0         100000 non-null float64\n",
      "f1         100000 non-null float64\n",
      "f2         100000 non-null float64\n",
      "product    100000 non-null float64\n",
      "dtypes: float64(4), object(1)\n",
      "memory usage: 3.8+ MB\n"
     ]
    }
   ],
   "source": [
    "display(data_1.head(10))\n",
    "data_1.info()"
   ]
  },
  {
   "cell_type": "code",
   "execution_count": 13,
   "metadata": {},
   "outputs": [
    {
     "data": {
      "text/html": [
       "<div>\n",
       "<style scoped>\n",
       "    .dataframe tbody tr th:only-of-type {\n",
       "        vertical-align: middle;\n",
       "    }\n",
       "\n",
       "    .dataframe tbody tr th {\n",
       "        vertical-align: top;\n",
       "    }\n",
       "\n",
       "    .dataframe thead th {\n",
       "        text-align: right;\n",
       "    }\n",
       "</style>\n",
       "<table border=\"1\" class=\"dataframe\">\n",
       "  <thead>\n",
       "    <tr style=\"text-align: right;\">\n",
       "      <th></th>\n",
       "      <th>id</th>\n",
       "      <th>f0</th>\n",
       "      <th>f1</th>\n",
       "      <th>f2</th>\n",
       "      <th>product</th>\n",
       "    </tr>\n",
       "  </thead>\n",
       "  <tbody>\n",
       "    <tr>\n",
       "      <td>0</td>\n",
       "      <td>fwXo0</td>\n",
       "      <td>-1.146987</td>\n",
       "      <td>0.963328</td>\n",
       "      <td>-0.828965</td>\n",
       "      <td>27.758673</td>\n",
       "    </tr>\n",
       "    <tr>\n",
       "      <td>1</td>\n",
       "      <td>WJtFt</td>\n",
       "      <td>0.262778</td>\n",
       "      <td>0.269839</td>\n",
       "      <td>-2.530187</td>\n",
       "      <td>56.069697</td>\n",
       "    </tr>\n",
       "    <tr>\n",
       "      <td>2</td>\n",
       "      <td>ovLUW</td>\n",
       "      <td>0.194587</td>\n",
       "      <td>0.289035</td>\n",
       "      <td>-5.586433</td>\n",
       "      <td>62.871910</td>\n",
       "    </tr>\n",
       "    <tr>\n",
       "      <td>3</td>\n",
       "      <td>q6cA6</td>\n",
       "      <td>2.236060</td>\n",
       "      <td>-0.553760</td>\n",
       "      <td>0.930038</td>\n",
       "      <td>114.572842</td>\n",
       "    </tr>\n",
       "    <tr>\n",
       "      <td>4</td>\n",
       "      <td>WPMUX</td>\n",
       "      <td>-0.515993</td>\n",
       "      <td>1.716266</td>\n",
       "      <td>5.899011</td>\n",
       "      <td>149.600746</td>\n",
       "    </tr>\n",
       "    <tr>\n",
       "      <td>5</td>\n",
       "      <td>LzZXx</td>\n",
       "      <td>-0.758092</td>\n",
       "      <td>0.710691</td>\n",
       "      <td>2.585887</td>\n",
       "      <td>90.222465</td>\n",
       "    </tr>\n",
       "    <tr>\n",
       "      <td>6</td>\n",
       "      <td>WBHRv</td>\n",
       "      <td>-0.574891</td>\n",
       "      <td>0.317727</td>\n",
       "      <td>1.773745</td>\n",
       "      <td>45.641478</td>\n",
       "    </tr>\n",
       "    <tr>\n",
       "      <td>7</td>\n",
       "      <td>XO8fn</td>\n",
       "      <td>-1.906649</td>\n",
       "      <td>-2.458350</td>\n",
       "      <td>-0.177097</td>\n",
       "      <td>72.480640</td>\n",
       "    </tr>\n",
       "    <tr>\n",
       "      <td>8</td>\n",
       "      <td>ybmQ5</td>\n",
       "      <td>1.776292</td>\n",
       "      <td>-0.279356</td>\n",
       "      <td>3.004156</td>\n",
       "      <td>106.616832</td>\n",
       "    </tr>\n",
       "    <tr>\n",
       "      <td>9</td>\n",
       "      <td>OilcN</td>\n",
       "      <td>-1.214452</td>\n",
       "      <td>-0.439314</td>\n",
       "      <td>5.922514</td>\n",
       "      <td>52.954532</td>\n",
       "    </tr>\n",
       "  </tbody>\n",
       "</table>\n",
       "</div>"
      ],
      "text/plain": [
       "      id        f0        f1        f2     product\n",
       "0  fwXo0 -1.146987  0.963328 -0.828965   27.758673\n",
       "1  WJtFt  0.262778  0.269839 -2.530187   56.069697\n",
       "2  ovLUW  0.194587  0.289035 -5.586433   62.871910\n",
       "3  q6cA6  2.236060 -0.553760  0.930038  114.572842\n",
       "4  WPMUX -0.515993  1.716266  5.899011  149.600746\n",
       "5  LzZXx -0.758092  0.710691  2.585887   90.222465\n",
       "6  WBHRv -0.574891  0.317727  1.773745   45.641478\n",
       "7  XO8fn -1.906649 -2.458350 -0.177097   72.480640\n",
       "8  ybmQ5  1.776292 -0.279356  3.004156  106.616832\n",
       "9  OilcN -1.214452 -0.439314  5.922514   52.954532"
      ]
     },
     "metadata": {},
     "output_type": "display_data"
    },
    {
     "name": "stdout",
     "output_type": "stream",
     "text": [
      "<class 'pandas.core.frame.DataFrame'>\n",
      "RangeIndex: 100000 entries, 0 to 99999\n",
      "Data columns (total 5 columns):\n",
      "id         100000 non-null object\n",
      "f0         100000 non-null float64\n",
      "f1         100000 non-null float64\n",
      "f2         100000 non-null float64\n",
      "product    100000 non-null float64\n",
      "dtypes: float64(4), object(1)\n",
      "memory usage: 3.8+ MB\n"
     ]
    }
   ],
   "source": [
    "display(data_2.head(10))\n",
    "data_2.info()"
   ]
  },
  {
   "cell_type": "markdown",
   "metadata": {},
   "source": [
    "There are no gaps in the data, all types are as expected."
   ]
  },
  {
   "cell_type": "markdown",
   "metadata": {},
   "source": [
    "But there is one column - `id` (unique identifier of the well), which is not needed when building the model and our further calculations. But before we get rid of it, let's check for duplicates:"
   ]
  },
  {
   "cell_type": "code",
   "execution_count": 14,
   "metadata": {},
   "outputs": [
    {
     "name": "stdout",
     "output_type": "stream",
     "text": [
      "99990\n",
      "99996\n",
      "99996\n"
     ]
    }
   ],
   "source": [
    "print(data_0.id.nunique())\n",
    "print(data_1.id.nunique())\n",
    "print(data_2.id.nunique())"
   ]
  },
  {
   "cell_type": "markdown",
   "metadata": {},
   "source": [
    "It turned out that in each dataset there are non-unique \" unique \"wells. Since there are not many of them (10, 4, 4 in each dataset, respectively), we will simply delete these records: "
   ]
  },
  {
   "cell_type": "code",
   "execution_count": 15,
   "metadata": {},
   "outputs": [],
   "source": [
    "data_0 = data_0.drop_duplicates(subset=['id'])\n",
    "data_1 = data_1.drop_duplicates(subset=['id'])\n",
    "data_2 = data_2.drop_duplicates(subset=['id'])"
   ]
  },
  {
   "cell_type": "code",
   "execution_count": 16,
   "metadata": {},
   "outputs": [
    {
     "name": "stdout",
     "output_type": "stream",
     "text": [
      "<class 'pandas.core.frame.DataFrame'>\n",
      "Int64Index: 99990 entries, 0 to 99999\n",
      "Data columns (total 5 columns):\n",
      "id         99990 non-null object\n",
      "f0         99990 non-null float64\n",
      "f1         99990 non-null float64\n",
      "f2         99990 non-null float64\n",
      "product    99990 non-null float64\n",
      "dtypes: float64(4), object(1)\n",
      "memory usage: 4.6+ MB\n"
     ]
    }
   ],
   "source": [
    "data_0.info()"
   ]
  },
  {
   "cell_type": "code",
   "execution_count": 17,
   "metadata": {},
   "outputs": [
    {
     "name": "stdout",
     "output_type": "stream",
     "text": [
      "<class 'pandas.core.frame.DataFrame'>\n",
      "Int64Index: 99996 entries, 0 to 99999\n",
      "Data columns (total 5 columns):\n",
      "id         99996 non-null object\n",
      "f0         99996 non-null float64\n",
      "f1         99996 non-null float64\n",
      "f2         99996 non-null float64\n",
      "product    99996 non-null float64\n",
      "dtypes: float64(4), object(1)\n",
      "memory usage: 4.6+ MB\n"
     ]
    }
   ],
   "source": [
    "data_1.info()"
   ]
  },
  {
   "cell_type": "code",
   "execution_count": 18,
   "metadata": {},
   "outputs": [
    {
     "name": "stdout",
     "output_type": "stream",
     "text": [
      "<class 'pandas.core.frame.DataFrame'>\n",
      "Int64Index: 99996 entries, 0 to 99999\n",
      "Data columns (total 5 columns):\n",
      "id         99996 non-null object\n",
      "f0         99996 non-null float64\n",
      "f1         99996 non-null float64\n",
      "f2         99996 non-null float64\n",
      "product    99996 non-null float64\n",
      "dtypes: float64(4), object(1)\n",
      "memory usage: 4.6+ MB\n"
     ]
    }
   ],
   "source": [
    "data_2.info()"
   ]
  },
  {
   "cell_type": "markdown",
   "metadata": {},
   "source": [
    "And now, with a clear conscience, let's drop the `id` column:"
   ]
  },
  {
   "cell_type": "code",
   "execution_count": 19,
   "metadata": {},
   "outputs": [],
   "source": [
    "data_0 = data_0.drop(columns=['id'])\n",
    "data_1 = data_1.drop(columns=['id'])\n",
    "data_2 = data_2.drop(columns=['id'])"
   ]
  },
  {
   "cell_type": "markdown",
   "metadata": {},
   "source": [
    "<a id='step_3'></a>\n",
    "## Step 3. Train and validate the model "
   ]
  },
  {
   "cell_type": "markdown",
   "metadata": {},
   "source": [
    "We will train and test the model as a small function and call it for each region:"
   ]
  },
  {
   "cell_type": "code",
   "execution_count": 20,
   "metadata": {},
   "outputs": [],
   "source": [
    "def step_3(researched_data: DataFrame):\n",
    "    # Parse the data into training and validation samples in a ratio of 75: 25\n",
    "    data_train_valid = separate_on_train_and_valid_data(researched_data, target_field='product', valid_size_value=0.25)\n",
    "    # Train the model and make predictions on the validation set.\n",
    "    model = build_linear_regression_model(\n",
    "        data_train_valid.features_train,\n",
    "        data_train_valid.target_train,\n",
    "        count_jobs=-1\n",
    "    )\n",
    "    # Save predictions and correct answers to the validation set.\n",
    "    predictions = model.predict(data_train_valid.features_valid)\n",
    "    real_target_values = data_train_valid.target_valid\n",
    "    # Display the average stock of the predicted raw materials and the RMSE of the model.\n",
    "    series_predictions = pd.Series(predictions)\n",
    "    mean = series_predictions.mean()\n",
    "    mse = mean_squared_error(real_target_values, predictions)\n",
    "    rmse = mse ** 0.5\n",
    "    print('Average stock of predicted raw materials:', mean)\n",
    "    print('RMSE (Root mean square error):', rmse)\n",
    "    print('Forecast confidence interval: ({}, {})'. format (mean - 2 * rmse, mean + 2 * rmse))\n",
    "\n",
    "    return model, series_predictions, real_target_values"
   ]
  },
  {
   "cell_type": "code",
   "execution_count": 21,
   "metadata": {},
   "outputs": [
    {
     "name": "stdout",
     "output_type": "stream",
     "text": [
      "Average stock of predicted raw materials: 92.78915638280621 \n",
      "RMSE (Root mean square error): 37.853527328872964 \n",
      "Forecast confidence interval: (17.082101725060284,168.49621104055214) \n"
     ]
    }
   ],
   "source": [
    "model_0, predictions_0, target_valid_0 = step_3(data_0)"
   ]
  },
  {
   "cell_type": "code",
   "execution_count": 22,
   "metadata": {},
   "outputs": [
    {
     "name": "stdout",
     "output_type": "stream",
     "text": [
      "Average stock of predicted raw materials: 69.17831957030432 \n",
      "RMSE (Root mean square error of the model): 0.8920592647717019 \n",
      "Forecast confidence interval: (67.39420104076092,70.96243809984773) \n"
     ]
    }
   ],
   "source": [
    "model_1, predictions_1, target_valid_1 = step_3(data_1)"
   ]
  },
  {
   "cell_type": "code",
   "execution_count": 23,
   "metadata": {},
   "outputs": [
    {
     "name": "stdout",
     "output_type": "stream",
     "text": [
      "Average stock of predicted raw materials: 94.86572480562035 \n",
      "RMSE (Root mean square error): 40.07585073246016 \n",
      "Forecast confidence interval: (14.714023340700024,175.01742627054068) \n"
     ]
    }
   ],
   "source": [
    "model_2, predictions_2, target_valid_2 = step_3(data_2)"
   ]
  },
  {
   "cell_type": "markdown",
   "metadata": {},
   "source": [
    "The average oil reserves in wells predicted by the models for each region are different. For the 1st and 3rd regions, these are 92 and 94 units of the product, respectively, and for the 2nd about 69. \n",
    " \n",
    "From this it would be possible to conclude that the 1st and 3rd regions are more promising, if it were not for the value of the mean square error of their models, which is quite large for these regions - 37.8 for the 1st and 40.0 for the 3rd. \n",
    " \n",
    "This suggests that the model could not find a sufficiently accurate function describing the values of the key parameter (in our case, `product`) from the rest, therefore, the predicted production rate for the well for the 1st region may be in the range from 54.2 to 129 , 8, and for the 3rd region from 54 to 134.\n",
    "\n",
    "The model for the 2nd region turned out to be quite accurate - the error is only about 0.9 units."
   ]
  },
  {
   "cell_type": "markdown",
   "metadata": {},
   "source": [
    "Now we need to decide which well is to be considered profitable and which is not. To do this, you need to know how much oil a well must produce to cover its costs. We'll do this in the next section. "
   ]
  },
  {
   "cell_type": "markdown",
   "metadata": {},
   "source": [
    "<a id='step_4'></a>\n",
    "## Step 4. Preparation for calculating profit "
   ]
  },
  {
   "cell_type": "markdown",
   "metadata": {},
   "source": [
    "All key values ​​for calculations will be saved in separate variables:"
   ]
  },
  {
   "cell_type": "code",
   "execution_count": 24,
   "metadata": {},
   "outputs": [],
   "source": [
    "region_budget = 10000000000 # budget for well development in the region, rubles \n",
    "count_researching_points = 500 # number of points under investigation, pcs. \n",
    "count_best_points = 200 # number of best points for development, pcs. \n",
    "product_profit = 450000 # income from each product unit, rubles \n",
    "need_quantile = .025 # maximum probability of loss"
   ]
  },
  {
   "cell_type": "markdown",
   "metadata": {},
   "source": [
    "Let's calculate the cost of the 1st well:"
   ]
  },
  {
   "cell_type": "code",
   "execution_count": 25,
   "metadata": {},
   "outputs": [
    {
     "name": "stdout",
     "output_type": "stream",
     "text": [
      "50,000 million rub. \n "
     ]
    }
   ],
   "source": [
    "cost_price_one_well = region_budget / count_best_points\n",
    "print(transform_to_million_rub(cost_price_one_well))"
   ]
  },
  {
   "cell_type": "markdown",
   "metadata": {},
   "source": [
    "We will calculate a sufficient volume of raw materials for a break-even development of a new well:"
   ]
  },
  {
   "cell_type": "code",
   "execution_count": 26,
   "metadata": {},
   "outputs": [
    {
     "name": "stdout",
     "output_type": "stream",
     "text": [
      "112.0\n"
     ]
    }
   ],
   "source": [
    "break_even_product_quantity = np.ceil(cost_price_one_well / product_profit)\n",
    "print(break_even_product_quantity)"
   ]
  },
  {
   "cell_type": "markdown",
   "metadata": {},
   "source": [
    "Now it becomes clear that the average oil reserves in wells, calculated in the previous section, are less than this value. But fortunately, according to the terms of the problem, we do not need to produce all the wells in the regions, but only 200 in each. "
   ]
  },
  {
   "cell_type": "markdown",
   "metadata": {},
   "source": [
    "<a id='step_5'></a>\n",
    "## Step 5. Calculation of profit and risk "
   ]
  },
  {
   "cell_type": "markdown",
   "metadata": {},
   "source": [
    "Let's calculate the profits and risks for each region using the previously obtained models. Для этого выберем 500 случайных точек в каждом регионе и, используя предсказания модели, расчитаем прибыльность 200 из них с максимальными значениями `product`:"
   ]
  },
  {
   "cell_type": "code",
   "execution_count": 27,
   "metadata": {},
   "outputs": [],
   "source": [
    "def step_5(data, model, region_number):\n",
    "    predictions_500 = get_predictions_500(data, model)\n",
    "    predictions_500 = predictions_500.sort_values(ascending=False)\n",
    "    print('Profit for the received volume of raw materials for the {} -th region:'. format (region_number),\n",
    "          transform_to_million_rub(profit_of_wells_by_predictions(\n",
    "                  predictions_500.iloc[0:count_best_points],\n",
    "                  product_profit,\n",
    "                  break_even_product_quantity\n",
    "               )\n",
    "          )\n",
    "    )"
   ]
  },
  {
   "cell_type": "code",
   "execution_count": 28,
   "metadata": {},
   "outputs": [
    {
     "name": "stdout",
     "output_type": "stream",
     "text": [
      "Profit for the received volume of raw materials for the 1st region: 371.266 mln. rub. \n "
     ]
    }
   ],
   "source": [
    "step_5(data_0, model_0, region_number=1)"
   ]
  },
  {
   "cell_type": "code",
   "execution_count": 29,
   "metadata": {},
   "outputs": [
    {
     "name": "stdout",
     "output_type": "stream",
     "text": [
      "Profit for the received volume of raw materials for the 2nd region: 282.006 mln. rub. \n "
     ]
    }
   ],
   "source": [
    "step_5(data_1, model_1, region_number=2)"
   ]
  },
  {
   "cell_type": "code",
   "execution_count": 30,
   "metadata": {},
   "outputs": [
    {
     "name": "stdout",
     "output_type": "stream",
     "text": [
      "Profit for the received volume of raw materials for the 3rd region: 211.305 mln. rub. \n "
     ]
    }
   ],
   "source": [
    "step_5(data_2, model_2, region_number=3)"
   ]
  },
  {
   "cell_type": "markdown",
   "metadata": {},
   "source": [
    "All three regions turned out to be profitable, with the first one looking the most promising with $ 371.266 million. rub. arrived."
   ]
  },
  {
   "cell_type": "markdown",
   "metadata": {},
   "source": [
    "But to make our results more reliable (500 points out of 10,000 is only 5% of the total), we will apply Bootstrap technique with 1000 samples, and find the potential profit in each region, as well as 95% confidence interval and risk of loss. "
   ]
  },
  {
   "cell_type": "code",
   "execution_count": 31,
   "metadata": {},
   "outputs": [],
   "source": [
    "def step_5_using_bootstrap(target_valid, predictions):\n",
    "    lower, upper, mean, values = get_mean_and_quantile_by_bootstrap(\n",
    "        target_valid,\n",
    "        predictions,\n",
    "        need_quantile,\n",
    "        (1 - need_quantile),\n",
    "        additional_multiplier=product_profit\n",
    "    )\n",
    "    print('Average revenue:', transform_to_million_rub(mean))\n",
    "    print('Profit based on average revenue:', transform_to_million_rub(mean - region_budget))\n",
    "    print('Confidence Interval of true average: ({}, {})'. format (transform_to_million_rub (lower), transform_to_million_rub (upper)))\n",
    "\n",
    "    up_profit = upper - region_budget\n",
    "    down_profit = lower - region_budget\n",
    "    print('Profit interval based on the Confidence Interval of the true average: ({}, {})'. format (\n",
    "        transform_to_million_rub(down_profit),\n",
    "        transform_to_million_rub(up_profit))\n",
    "    )\n",
    "\n",
    "    if up_profit < 0:\n",
    "        probability_of_losses_by_cond_interval = 100.0\n",
    "    elif up_profit > 0 and down_profit < 0:\n",
    "        probability_of_losses_by_cond_interval = (abs(down_profit) / (abs(down_profit) + up_profit)) * 100\n",
    "    else:\n",
    "        probability_of_losses_by_cond_interval = 0.0\n",
    "\n",
    "    print('Fraction of negative part of Confidence Interval of true mean: {: .2f}%'. format (probability_of_losses_by_cond_interval))\n",
    "\n",
    "    profit_values = values.apply(lambda value: value - region_budget)\n",
    "    probability_of_losses = len(profit_values[profit_values < 0]) / len(profit_values)\n",
    "    print('Risk of loss: {: .2f}%'. format (probability_of_losses * 100))"
   ]
  },
  {
   "cell_type": "code",
   "execution_count": 32,
   "metadata": {},
   "outputs": [
    {
     "name": "stdout",
     "output_type": "stream",
     "text": [
      "Average revenue: 10409.428 million. rub. \n ",
      "Profit based on average revenues: $ 409.428 mln. rub. \n ",
      "Confidence Interval of true average: (9868.464 mln. rub., 10944.396 mln. rub.)\n",
      "Profit interval based on true average Confidence Interval: (-131.536 mln. rub., 944.396 mln. rub.)\n",
      "The share of the negative part of the Confidence Interval of the true average: 12.23% \n",
      "Risk of loss: 7.10% \n"
     ]
    }
   ],
   "source": [
    "step_5_using_bootstrap(target_valid_0, predictions_0)"
   ]
  },
  {
   "cell_type": "code",
   "execution_count": 33,
   "metadata": {},
   "outputs": [
    {
     "name": "stdout",
     "output_type": "stream",
     "text": [
      "Average revenue: 10,536.903 million. rub. \n ",
      "Profit based on average revenues: 536.903 mln. rub. \n ",
      "Confidence Interval of the true average: (10114.528 mln. rubles, 10970.788 mln. rub.)\n",
      "Profit interval based on true average Confidence Interval: (114.528 mln. rub., 970.788 mln. rub.)\n",
      "The share of the negative part of the Confidence Interval of the true mean: 0.00% \n",
      "Risk of loss: 0.90% \n"
     ]
    }
   ],
   "source": [
    "step_5_using_bootstrap(target_valid_1, predictions_1)"
   ]
  },
  {
   "cell_type": "code",
   "execution_count": 34,
   "metadata": {},
   "outputs": [
    {
     "name": "stdout",
     "output_type": "stream",
     "text": [
      "Average revenue: 10353.790 million. rub. \n ",
      "Profit based on average revenues: $ 353.790 mln. rub. \n ",
      "Confidence Interval of true average: (9840.806 mln. rub., 10 875.653 mln. rub.)\n",
      "Profit Interval Based on True Average Confidence Interval: (-159.194 mln. rub., 875.653 mln. rub.)\n",
      "The share of the negative part of the Confidence Interval of the true average: 15.38% \n",
      "Risk of loss: 10.20% \n"
     ]
    }
   ],
   "source": [
    "step_5_using_bootstrap(target_valid_2, predictions_2)"
   ]
  },
  {
   "cell_type": "markdown",
   "metadata": {},
   "source": [
    "And again the picture has changed. The 1st region in terms of average revenue showed only the 2nd result, in addition, the lower limit of its confidence interval (i.e. значения которое означает, что с вероятностью `95%` выручка может быть не менее этого значения) составила 9868.464 млн. rubles, which means that the existing risk of losses in this region is greater than the one specified in the Terms of Reference. \n",
    " \n",
    "The 3rd region has similar problems. In addition to the fact that this region has the lowest average revenue (10353.790 mln. rub.) there is also a risk of losses in it that is greater than the one specified in the Terms of Reference. \n",
    " \n",
    "And our winner! Region number 2. It not only showed the highest average revenue (10,536.903 mln. rub.) and the value of profit based on average revenues (536.903 mln. rub.), but this is also the only region that is guaranteed (more precisely, with a 95% probability :)) will bring us income of more than 114.528 million. rub."
   ]
  },
  {
   "attachments": {
    "image.png": {
     "image/png": "[encoded data removed]"
    }
   },
   "cell_type": "markdown",
   "metadata": {},
   "source": [
    "![image.png](attachment:image.png)"
   ]
  },
  {
   "attachments": {
    "image.png": {
     "image/png": "[encoded data removed]"
    }
   },
   "cell_type": "markdown",
   "metadata": {},
   "source": [
    "![image.png](attachment:image.png)\n",
    "\n"
   ]
  },
  {
   "cell_type": "markdown",
   "metadata": {},
   "source": [
    "<a id='step_6'></a>\n",
    "## Step 6. Conclusions on the research results "
   ]
  },
  {
   "cell_type": "markdown",
   "metadata": {},
   "source": [
    "Within the framework of the project, we: \n",
    "1. Have taken all the necessary steps to prepare the data \n",
    "1. For each region trained a linear regression model\n",
    "1. Average stock of predicted raw materials, and calculated RMSE (Root mean square error of model)\n",
    "1. Calculated profits and risks using models, without the `Bootstrap` technique\n",
    "1. Calculated profits and risks using the `Bootstrap` technique"
   ]
  },
  {
   "cell_type": "markdown",
   "metadata": {},
   "source": [
    "Applying the `Bootstrap` technique has shown that the only region that is 95% likely to guarantee profitability is region # 2. It showed the highest profit value (536.903 mln. rub.), but also this region is guaranteed with a probability of 95% should bring income more than 114.528 million. rub."
   ]
  },
  {
   "cell_type": "markdown",
   "metadata": {},
   "source": [
    "# Project readiness checklist"
   ]
  },
  {
   "cell_type": "markdown",
   "metadata": {},
   "source": [
    "Put 'x' at the completed items. Then press Shift + Enter. "
   ]
  },
  {
   "cell_type": "markdown",
   "metadata": {},
   "source": [
    "- [x] Jupyter Notebook is open \n",
    "- [x] All code is executed without errors \n",
    "- [x] The cells with the code are in the order of execution \n",
    "- [x] Step 1 completed: data prepared \n",
    "- [x] Step 2 completed: models trained and validated \n",
    "    - [x] Data is correctly split into training and validation sets\n",
    "    - [x] Models trained, predictions made\n",
    "    - [x] Predictions and correct answers saved in the validation set\n",
    "    - [x] Results are printed on the screen\n",
    "    - [x] Conclusions are made\n",
    "- [x] Step 3 has been completed: preparation for profit calculation has been made \n",
    "    - [x] Python constants created for all key values ​​\n",
    "    - [x] Calculated the minimum average amount of product in the region's fields, sufficient for development\n",
    "    - [x] Conclusions were drawn from the previous point\n",
    "    - [x] Function for calculating profit\n",
    "- [x] Step 4 has been completed: risks and profits have been calculated \n",
    "    - [x]  Проведена процедура *Bootstrap*\n",
    "    - [x] All bootstrap parameters match\n",
    "    - [x] Found all required values ​​\n",
    "    - [x] Proposed region for field development\n",
    "    - [x] The choice of the region is justified"
   ]
  }
 ],
 "metadata": {
  "kernelspec": {
   "display_name": "Python 3",
   "language": "python",
   "name": "python3"
  },
  "language_info": {
   "codemirror_mode": {
    "name": "ipython",
    "version": 3
   },
   "file_extension": ".py",
   "mimetype": "text/x-python",
   "name": "python",
   "nbconvert_exporter": "python",
   "pygments_lexer": "ipython3",
   "version": "3.7.8"
  },
  "toc": {
   "base_numbering": 1,
   "nav_menu": {},
   "number_sections": true,
   "sideBar": true,
   "skip_h1_title": true,
   "title_cell": "Table of Contents",
   "title_sidebar": "Contents",
   "toc_cell": false,
   "toc_position": {},
   "toc_section_display": true,
   "toc_window_display": false
  }
 },
 "nbformat": 4,
 "nbformat_minor": 2
}